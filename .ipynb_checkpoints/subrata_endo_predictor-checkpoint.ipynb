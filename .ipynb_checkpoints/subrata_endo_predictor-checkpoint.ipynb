{
 "cells": [
  {
   "cell_type": "markdown",
   "metadata": {},
   "source": [
    "## Import Libraries\n"
   ]
  },
  {
   "cell_type": "code",
   "execution_count": 1,
   "metadata": {},
   "outputs": [],
   "source": [
    "import numpy as np\n",
    "import pandas as pd\n",
    "from sklearn.preprocessing import OrdinalEncoder, OneHotEncoder, Normalizer, MinMaxScaler, RobustScaler, MaxAbsScaler\n",
    "from sklearn.model_selection import train_test_split, GridSearchCV\n",
    "from sklearn.linear_model import LogisticRegression\n",
    "from sklearn.tree import DecisionTreeClassifier\n",
    "from sklearn.ensemble import RandomForestClassifier\n",
    "from sklearn.metrics import accuracy_score, classification_report"
   ]
  },
  {
   "cell_type": "markdown",
   "metadata": {},
   "source": [
    "## Load Data\n"
   ]
  },
  {
   "cell_type": "code",
   "execution_count": 2,
   "metadata": {},
   "outputs": [
    {
     "data": {
      "text/plain": [
       "(383, 17)"
      ]
     },
     "execution_count": 2,
     "metadata": {},
     "output_type": "execute_result"
    }
   ],
   "source": [
    "data = pd.read_csv(\"./thyroid.csv\")\n",
    "data.shape"
   ]
  },
  {
   "cell_type": "code",
   "execution_count": 3,
   "metadata": {},
   "outputs": [
    {
     "data": {
      "text/html": [
       "<div>\n",
       "<style scoped>\n",
       "    .dataframe tbody tr th:only-of-type {\n",
       "        vertical-align: middle;\n",
       "    }\n",
       "\n",
       "    .dataframe tbody tr th {\n",
       "        vertical-align: top;\n",
       "    }\n",
       "\n",
       "    .dataframe thead th {\n",
       "        text-align: right;\n",
       "    }\n",
       "</style>\n",
       "<table border=\"1\" class=\"dataframe\">\n",
       "  <thead>\n",
       "    <tr style=\"text-align: right;\">\n",
       "      <th></th>\n",
       "      <th>Age</th>\n",
       "      <th>Gender</th>\n",
       "      <th>Smoking</th>\n",
       "      <th>Hx Smoking</th>\n",
       "      <th>Hx Radiothreapy</th>\n",
       "      <th>Thyroid Function</th>\n",
       "      <th>Physical Examination</th>\n",
       "      <th>Adenopathy</th>\n",
       "      <th>Pathology</th>\n",
       "      <th>Focality</th>\n",
       "      <th>Risk</th>\n",
       "      <th>T</th>\n",
       "      <th>N</th>\n",
       "      <th>M</th>\n",
       "      <th>Stage</th>\n",
       "      <th>Response</th>\n",
       "      <th>Recurred</th>\n",
       "    </tr>\n",
       "  </thead>\n",
       "  <tbody>\n",
       "    <tr>\n",
       "      <th>0</th>\n",
       "      <td>27</td>\n",
       "      <td>F</td>\n",
       "      <td>No</td>\n",
       "      <td>No</td>\n",
       "      <td>No</td>\n",
       "      <td>Euthyroid</td>\n",
       "      <td>Single nodular goiter-left</td>\n",
       "      <td>No</td>\n",
       "      <td>Micropapillary</td>\n",
       "      <td>Uni-Focal</td>\n",
       "      <td>Low</td>\n",
       "      <td>T1a</td>\n",
       "      <td>N0</td>\n",
       "      <td>M0</td>\n",
       "      <td>I</td>\n",
       "      <td>Indeterminate</td>\n",
       "      <td>No</td>\n",
       "    </tr>\n",
       "    <tr>\n",
       "      <th>1</th>\n",
       "      <td>34</td>\n",
       "      <td>F</td>\n",
       "      <td>No</td>\n",
       "      <td>Yes</td>\n",
       "      <td>No</td>\n",
       "      <td>Euthyroid</td>\n",
       "      <td>Multinodular goiter</td>\n",
       "      <td>No</td>\n",
       "      <td>Micropapillary</td>\n",
       "      <td>Uni-Focal</td>\n",
       "      <td>Low</td>\n",
       "      <td>T1a</td>\n",
       "      <td>N0</td>\n",
       "      <td>M0</td>\n",
       "      <td>I</td>\n",
       "      <td>Excellent</td>\n",
       "      <td>No</td>\n",
       "    </tr>\n",
       "    <tr>\n",
       "      <th>2</th>\n",
       "      <td>30</td>\n",
       "      <td>F</td>\n",
       "      <td>No</td>\n",
       "      <td>No</td>\n",
       "      <td>No</td>\n",
       "      <td>Euthyroid</td>\n",
       "      <td>Single nodular goiter-right</td>\n",
       "      <td>No</td>\n",
       "      <td>Micropapillary</td>\n",
       "      <td>Uni-Focal</td>\n",
       "      <td>Low</td>\n",
       "      <td>T1a</td>\n",
       "      <td>N0</td>\n",
       "      <td>M0</td>\n",
       "      <td>I</td>\n",
       "      <td>Excellent</td>\n",
       "      <td>No</td>\n",
       "    </tr>\n",
       "    <tr>\n",
       "      <th>3</th>\n",
       "      <td>62</td>\n",
       "      <td>F</td>\n",
       "      <td>No</td>\n",
       "      <td>No</td>\n",
       "      <td>No</td>\n",
       "      <td>Euthyroid</td>\n",
       "      <td>Single nodular goiter-right</td>\n",
       "      <td>No</td>\n",
       "      <td>Micropapillary</td>\n",
       "      <td>Uni-Focal</td>\n",
       "      <td>Low</td>\n",
       "      <td>T1a</td>\n",
       "      <td>N0</td>\n",
       "      <td>M0</td>\n",
       "      <td>I</td>\n",
       "      <td>Excellent</td>\n",
       "      <td>No</td>\n",
       "    </tr>\n",
       "    <tr>\n",
       "      <th>4</th>\n",
       "      <td>62</td>\n",
       "      <td>F</td>\n",
       "      <td>No</td>\n",
       "      <td>No</td>\n",
       "      <td>No</td>\n",
       "      <td>Euthyroid</td>\n",
       "      <td>Multinodular goiter</td>\n",
       "      <td>No</td>\n",
       "      <td>Micropapillary</td>\n",
       "      <td>Multi-Focal</td>\n",
       "      <td>Low</td>\n",
       "      <td>T1a</td>\n",
       "      <td>N0</td>\n",
       "      <td>M0</td>\n",
       "      <td>I</td>\n",
       "      <td>Excellent</td>\n",
       "      <td>No</td>\n",
       "    </tr>\n",
       "  </tbody>\n",
       "</table>\n",
       "</div>"
      ],
      "text/plain": [
       "   Age Gender Smoking Hx Smoking Hx Radiothreapy Thyroid Function  \\\n",
       "0   27      F      No         No              No        Euthyroid   \n",
       "1   34      F      No        Yes              No        Euthyroid   \n",
       "2   30      F      No         No              No        Euthyroid   \n",
       "3   62      F      No         No              No        Euthyroid   \n",
       "4   62      F      No         No              No        Euthyroid   \n",
       "\n",
       "          Physical Examination Adenopathy       Pathology     Focality Risk  \\\n",
       "0   Single nodular goiter-left         No  Micropapillary    Uni-Focal  Low   \n",
       "1          Multinodular goiter         No  Micropapillary    Uni-Focal  Low   \n",
       "2  Single nodular goiter-right         No  Micropapillary    Uni-Focal  Low   \n",
       "3  Single nodular goiter-right         No  Micropapillary    Uni-Focal  Low   \n",
       "4          Multinodular goiter         No  Micropapillary  Multi-Focal  Low   \n",
       "\n",
       "     T   N   M Stage       Response Recurred  \n",
       "0  T1a  N0  M0     I  Indeterminate       No  \n",
       "1  T1a  N0  M0     I      Excellent       No  \n",
       "2  T1a  N0  M0     I      Excellent       No  \n",
       "3  T1a  N0  M0     I      Excellent       No  \n",
       "4  T1a  N0  M0     I      Excellent       No  "
      ]
     },
     "execution_count": 3,
     "metadata": {},
     "output_type": "execute_result"
    }
   ],
   "source": [
    "data.head()"
   ]
  },
  {
   "cell_type": "markdown",
   "metadata": {},
   "source": [
    "## Data Features\n"
   ]
  },
  {
   "cell_type": "markdown",
   "metadata": {},
   "source": [
    "The **endo predictor** dataset is a collection of clinical and pathological features of patients with endometrial cancer. The dataset has **18** columns, each representing a different feature.\n",
    "\n",
    "- **Age:** age of the patient at diagnosis, in years\n",
    "- **Gender:** biological sex of the patient, either male or female\n",
    "- **Smoking:** whether the patient has a history of smoking, either yes or no\n",
    "- **Hx Smoking:** number of pack-years of smoking, calculated as the number of packs of cigarettes smoked per day multiplied by the number of years the person has smoked\n",
    "- **Hx Radiotherapy:** whether the patient has a history of radiotherapy, either yes or no\n",
    "- **Thyroid Function:** status of the patient's thyroid gland\n",
    "- **Physical Examination:** findings of the physical examination of the patient's pelvis\n",
    "- **Adenopathy:** whether the patient has enlarged lymph nodes\n",
    "- **Pathology:** type of endometrial cancer\n",
    "- **Focality:** number of foci of cancer in the endometrium, either unifocal or multifocal\n",
    "- **Risk:** risk category of the patient, based on the stage and grade of the cancer, either low, intermediate, or high\n",
    "- **T:** size and extent of the primary tumor, based on the TNM staging system\n",
    "- **N:** involvement of regional lymph nodes, based on the TNM staging system\n",
    "- **M:** presence of distant metastasis, based on the TNM staging system, either M0 or M1\n",
    "- **Stage:** overall stage of the cancer, based on the FIGO staging system\n",
    "- **Response:** response of the patient to the treatment\n",
    "- **`Recurred:`** whether the patient had a recurrence of the cancer, either yes or no\n"
   ]
  },
  {
   "cell_type": "markdown",
   "metadata": {},
   "source": [
    "## Clean Data\n"
   ]
  },
  {
   "cell_type": "code",
   "execution_count": 4,
   "metadata": {},
   "outputs": [
    {
     "data": {
      "text/plain": [
       "Age                     0\n",
       "Gender                  0\n",
       "Smoking                 0\n",
       "Hx Smoking              0\n",
       "Hx Radiothreapy         0\n",
       "Thyroid Function        0\n",
       "Physical Examination    0\n",
       "Adenopathy              0\n",
       "Pathology               0\n",
       "Focality                0\n",
       "Risk                    0\n",
       "T                       0\n",
       "N                       0\n",
       "M                       0\n",
       "Stage                   0\n",
       "Response                0\n",
       "Recurred                0\n",
       "dtype: int64"
      ]
     },
     "execution_count": 4,
     "metadata": {},
     "output_type": "execute_result"
    }
   ],
   "source": [
    "data.isnull().sum()"
   ]
  },
  {
   "cell_type": "markdown",
   "metadata": {},
   "source": [
    "> No missing values found in either of the features.\n"
   ]
  },
  {
   "cell_type": "code",
   "execution_count": 5,
   "metadata": {},
   "outputs": [
    {
     "data": {
      "text/plain": [
       "(364, 17)"
      ]
     },
     "execution_count": 5,
     "metadata": {},
     "output_type": "execute_result"
    }
   ],
   "source": [
    "data = data.drop_duplicates()\n",
    "data.shape"
   ]
  },
  {
   "cell_type": "markdown",
   "metadata": {},
   "source": [
    "> Number of samples **dropped** from `383 to 364`, indicating `19 duplicate` rows were removed from the data.\n"
   ]
  },
  {
   "cell_type": "markdown",
   "metadata": {},
   "source": [
    "## Data Preparation\n"
   ]
  },
  {
   "cell_type": "code",
   "execution_count": 6,
   "metadata": {},
   "outputs": [],
   "source": [
    "numerical_features:set[str]=set()\n",
    "categorical_features:set[str]=set()\n",
    "target_feature:str = str()"
   ]
  },
  {
   "cell_type": "markdown",
   "metadata": {},
   "source": [
    "### Recurred (target)\n",
    "\n",
    "Probable chance of respawning the cancer after treatment.\n"
   ]
  },
  {
   "cell_type": "code",
   "execution_count": 7,
   "metadata": {},
   "outputs": [
    {
     "data": {
      "text/plain": [
       "Recurred\n",
       "No     0.703297\n",
       "Yes    0.296703\n",
       "Name: proportion, dtype: float64"
      ]
     },
     "execution_count": 7,
     "metadata": {},
     "output_type": "execute_result"
    }
   ],
   "source": [
    "data[\"Recurred\"].value_counts(normalize=True)"
   ]
  },
  {
   "cell_type": "code",
   "execution_count": 8,
   "metadata": {},
   "outputs": [
    {
     "data": {
      "text/plain": [
       "'Recurred'"
      ]
     },
     "execution_count": 8,
     "metadata": {},
     "output_type": "execute_result"
    }
   ],
   "source": [
    "target_feature=\"Recurred\"\n",
    "target_feature"
   ]
  },
  {
   "cell_type": "code",
   "execution_count": 9,
   "metadata": {},
   "outputs": [
    {
     "data": {
      "text/plain": [
       "Recurred\n",
       "0    0.703297\n",
       "1    0.296703\n",
       "Name: proportion, dtype: float64"
      ]
     },
     "execution_count": 9,
     "metadata": {},
     "output_type": "execute_result"
    }
   ],
   "source": [
    "data[\"Recurred\"] = data[\"Recurred\"].apply(lambda x: 1 if str(x) == \"Yes\" else 0)\n",
    "data[\"Recurred\"].value_counts(normalize=True)"
   ]
  },
  {
   "cell_type": "code",
   "execution_count": 75,
   "metadata": {},
   "outputs": [
    {
     "data": {
      "text/plain": [
       "<Axes: title={'center': 'Recurred Distribution'}, xlabel='Recurred', ylabel='Frequency'>"
      ]
     },
     "execution_count": 75,
     "metadata": {},
     "output_type": "execute_result"
    },
    {
     "data": {
      "image/png": "[encoded data removed]",
      "text/plain": [
       "<Figure size 640x480 with 1 Axes>"
      ]
     },
     "metadata": {},
     "output_type": "display_data"
    }
   ],
   "source": [
    "data[\"Recurred\"].plot.hist(title=\"Recurred Distribution\", xlabel=\"Recurred\")"
   ]
  },
  {
   "cell_type": "markdown",
   "metadata": {},
   "source": [
    "> - It's evident that the number of patients with endometrial cancer recurrence is more than twice.<br>\n",
    "> - Replaced **Yes** with **1** and **No** with **0**\n"
   ]
  },
  {
   "cell_type": "markdown",
   "metadata": {},
   "source": [
    "### Age\n",
    "\n",
    "Age of the patients in years.\n"
   ]
  },
  {
   "cell_type": "code",
   "execution_count": 11,
   "metadata": {},
   "outputs": [
    {
     "data": {
      "text/plain": [
       "count    364.00000\n",
       "mean      41.25000\n",
       "std       15.31436\n",
       "min       15.00000\n",
       "25%       30.00000\n",
       "50%       38.00000\n",
       "75%       52.00000\n",
       "max       82.00000\n",
       "Name: Age, dtype: float64"
      ]
     },
     "execution_count": 11,
     "metadata": {},
     "output_type": "execute_result"
    }
   ],
   "source": [
    "data[\"Age\"].describe()"
   ]
  },
  {
   "cell_type": "code",
   "execution_count": 12,
   "metadata": {},
   "outputs": [
    {
     "data": {
      "text/plain": [
       "{'Age'}"
      ]
     },
     "execution_count": 12,
     "metadata": {},
     "output_type": "execute_result"
    }
   ],
   "source": [
    "numerical_features.add(\"Age\")\n",
    "numerical_features"
   ]
  },
  {
   "cell_type": "code",
   "execution_count": 13,
   "metadata": {},
   "outputs": [
    {
     "data": {
      "text/plain": [
       "<Axes: title={'center': 'Age Distribution'}, xlabel='Age', ylabel='Frequency'>"
      ]
     },
     "execution_count": 13,
     "metadata": {},
     "output_type": "execute_result"
    },
    {
     "data": {
      "image/png": "[encoded data removed]",
      "text/plain": [
       "<Figure size 640x480 with 1 Axes>"
      ]
     },
     "metadata": {},
     "output_type": "display_data"
    }
   ],
   "source": [
    "data[\"Age\"].plot.hist(title=\"Age Distribution\", xlabel=\"Age\")"
   ]
  },
  {
   "cell_type": "markdown",
   "metadata": {},
   "source": [
    "> - Average age of the patients is **41.2** years out of **364** patients. This Age feature is numerical.\n"
   ]
  },
  {
   "cell_type": "code",
   "execution_count": 14,
   "metadata": {},
   "outputs": [
    {
     "data": {
      "text/plain": [
       "{'Age'}"
      ]
     },
     "execution_count": 14,
     "metadata": {},
     "output_type": "execute_result"
    }
   ],
   "source": [
    "numerical_features.add(\"Age\")\n",
    "numerical_features"
   ]
  },
  {
   "cell_type": "markdown",
   "metadata": {},
   "source": [
    "### Gender\n"
   ]
  },
  {
   "cell_type": "code",
   "execution_count": 15,
   "metadata": {},
   "outputs": [
    {
     "data": {
      "text/plain": [
       "Gender\n",
       "F    0.804945\n",
       "M    0.195055\n",
       "Name: proportion, dtype: float64"
      ]
     },
     "execution_count": 15,
     "metadata": {},
     "output_type": "execute_result"
    }
   ],
   "source": [
    "data[\"Gender\"].value_counts(normalize=True)"
   ]
  },
  {
   "cell_type": "code",
   "execution_count": 16,
   "metadata": {},
   "outputs": [
    {
     "data": {
      "text/plain": [
       "{'Gender'}"
      ]
     },
     "execution_count": 16,
     "metadata": {},
     "output_type": "execute_result"
    }
   ],
   "source": [
    "categorical_features.add(\"Gender\")\n",
    "categorical_features"
   ]
  },
  {
   "cell_type": "code",
   "execution_count": 17,
   "metadata": {},
   "outputs": [
    {
     "data": {
      "text/plain": [
       "Gender\n",
       "0    0.804945\n",
       "1    0.195055\n",
       "Name: proportion, dtype: float64"
      ]
     },
     "execution_count": 17,
     "metadata": {},
     "output_type": "execute_result"
    }
   ],
   "source": [
    "data[\"Gender\"]=data[\"Gender\"].apply(lambda x: 1 if str(x) == \"M\" else 0)\n",
    "data[\"Gender\"].value_counts(normalize=True)"
   ]
  },
  {
   "cell_type": "code",
   "execution_count": 18,
   "metadata": {},
   "outputs": [
    {
     "data": {
      "text/plain": [
       "<Axes: title={'center': 'Gender Distribution'}, xlabel='Gender', ylabel='Frequency'>"
      ]
     },
     "execution_count": 18,
     "metadata": {},
     "output_type": "execute_result"
    },
    {
     "data": {
      "image/png": "[encoded data removed]",
      "text/plain": [
       "<Figure size 640x480 with 1 Axes>"
      ]
     },
     "metadata": {},
     "output_type": "display_data"
    }
   ],
   "source": [
    "data[\"Gender\"].plot.hist(title=\"Gender Distribution\", xlabel=\"Gender\")"
   ]
  },
  {
   "cell_type": "markdown",
   "metadata": {},
   "source": [
    "> - It's evident that the number of female patients are **4x** (times) more than the male patients.<br>\n",
    "> - Replaced **M** with **1** and **F** with **0**.\n"
   ]
  },
  {
   "cell_type": "markdown",
   "metadata": {},
   "source": [
    "### Smoking\n",
    "\n",
    "Whether the patient has a history of smoking or not.\n"
   ]
  },
  {
   "cell_type": "code",
   "execution_count": 19,
   "metadata": {},
   "outputs": [
    {
     "data": {
      "text/plain": [
       "Smoking\n",
       "No     0.865385\n",
       "Yes    0.134615\n",
       "Name: proportion, dtype: float64"
      ]
     },
     "execution_count": 19,
     "metadata": {},
     "output_type": "execute_result"
    }
   ],
   "source": [
    "data[\"Smoking\"].value_counts(normalize=True)"
   ]
  },
  {
   "cell_type": "code",
   "execution_count": 20,
   "metadata": {},
   "outputs": [
    {
     "data": {
      "text/plain": [
       "{'Gender', 'Smoking'}"
      ]
     },
     "execution_count": 20,
     "metadata": {},
     "output_type": "execute_result"
    }
   ],
   "source": [
    "categorical_features.add(\"Smoking\")\n",
    "categorical_features"
   ]
  },
  {
   "cell_type": "code",
   "execution_count": 21,
   "metadata": {},
   "outputs": [
    {
     "data": {
      "text/plain": [
       "Smoking\n",
       "0    0.865385\n",
       "1    0.134615\n",
       "Name: proportion, dtype: float64"
      ]
     },
     "execution_count": 21,
     "metadata": {},
     "output_type": "execute_result"
    }
   ],
   "source": [
    "data[\"Smoking\"]=data[\"Smoking\"].apply(lambda x: 1 if str(x) == \"Yes\" else 0)\n",
    "data[\"Smoking\"].value_counts(normalize=True)"
   ]
  },
  {
   "cell_type": "code",
   "execution_count": 22,
   "metadata": {},
   "outputs": [
    {
     "data": {
      "text/plain": [
       "<Axes: title={'center': 'Smoking Distribution'}, xlabel='Gender', ylabel='Frequency'>"
      ]
     },
     "execution_count": 22,
     "metadata": {},
     "output_type": "execute_result"
    },
    {
     "data": {
      "image/png": "[encoded data removed]",
      "text/plain": [
       "<Figure size 640x480 with 1 Axes>"
      ]
     },
     "metadata": {},
     "output_type": "display_data"
    }
   ],
   "source": [
    "data[\"Smoking\"].plot.hist(title=\"Smoking Distribution\", xlabel=\"Gender\")"
   ]
  },
  {
   "cell_type": "markdown",
   "metadata": {},
   "source": [
    "> - It's interesting that the number of patients with history of `no smoking` is almost **7x** (times) more than the patients with history of `smoking`. <br>\n",
    "> - Replaced `Smokers` with **1** and `No Smokers` with **0**.\n"
   ]
  },
  {
   "cell_type": "markdown",
   "metadata": {},
   "source": [
    "### Hx Smoking\n",
    "\n",
    "number of pack-years of smoking, calculated as the number of packs of cigarettes smoked per day multiplied by the number of years the person has smoked\n"
   ]
  },
  {
   "cell_type": "code",
   "execution_count": 23,
   "metadata": {},
   "outputs": [
    {
     "data": {
      "text/plain": [
       "Hx Smoking\n",
       "No     0.923077\n",
       "Yes    0.076923\n",
       "Name: proportion, dtype: float64"
      ]
     },
     "execution_count": 23,
     "metadata": {},
     "output_type": "execute_result"
    }
   ],
   "source": [
    "data[\"Hx Smoking\"].value_counts(normalize=True)"
   ]
  },
  {
   "cell_type": "code",
   "execution_count": 24,
   "metadata": {},
   "outputs": [
    {
     "data": {
      "text/plain": [
       "{'Gender', 'Hx Smoking', 'Smoking'}"
      ]
     },
     "execution_count": 24,
     "metadata": {},
     "output_type": "execute_result"
    }
   ],
   "source": [
    "categorical_features.add(\"Hx Smoking\")\n",
    "categorical_features"
   ]
  },
  {
   "cell_type": "code",
   "execution_count": 25,
   "metadata": {},
   "outputs": [
    {
     "data": {
      "text/plain": [
       "Hx Smoking\n",
       "0    0.923077\n",
       "1    0.076923\n",
       "Name: proportion, dtype: float64"
      ]
     },
     "execution_count": 25,
     "metadata": {},
     "output_type": "execute_result"
    }
   ],
   "source": [
    "data[\"Hx Smoking\"]=data[\"Hx Smoking\"].apply(lambda x: 1 if str(x) == \"Yes\" else 0)\n",
    "data[\"Hx Smoking\"].value_counts(normalize=True)"
   ]
  },
  {
   "cell_type": "code",
   "execution_count": 26,
   "metadata": {},
   "outputs": [
    {
     "data": {
      "text/plain": [
       "<Axes: title={'center': 'Hx Smoking Distribution'}, xlabel='Hx Smoking', ylabel='Frequency'>"
      ]
     },
     "execution_count": 26,
     "metadata": {},
     "output_type": "execute_result"
    },
    {
     "data": {
      "image/png": "[encoded data removed]",
      "text/plain": [
       "<Figure size 640x480 with 1 Axes>"
      ]
     },
     "metadata": {},
     "output_type": "display_data"
    }
   ],
   "source": [
    "data[\"Hx Smoking\"].plot.hist(title=\"Hx Smoking Distribution\", xlabel=\"Hx Smoking\")"
   ]
  },
  {
   "cell_type": "markdown",
   "metadata": {},
   "source": [
    "> - It's evident the number of patients with No Hx Smoking 13x times more than the patients with Hx Smoking, which makes sense as the number of patients with No Smoking was also more. <br>\n",
    "> - Replaced **Yes** with **1** and **No** with **0**.\n"
   ]
  },
  {
   "cell_type": "markdown",
   "metadata": {},
   "source": [
    "### Hx Radiotherapy\n",
    "\n",
    "whether the patient has a history of radiotherapy, either yes or no\n"
   ]
  },
  {
   "cell_type": "code",
   "execution_count": 27,
   "metadata": {},
   "outputs": [
    {
     "data": {
      "text/plain": [
       "Hx Radiothreapy\n",
       "No     0.980769\n",
       "Yes    0.019231\n",
       "Name: proportion, dtype: float64"
      ]
     },
     "execution_count": 27,
     "metadata": {},
     "output_type": "execute_result"
    }
   ],
   "source": [
    "data[\"Hx Radiothreapy\"].value_counts(normalize=True)"
   ]
  },
  {
   "cell_type": "code",
   "execution_count": 28,
   "metadata": {},
   "outputs": [
    {
     "data": {
      "text/plain": [
       "{'Gender', 'Hx Radiothreapy', 'Hx Smoking', 'Smoking'}"
      ]
     },
     "execution_count": 28,
     "metadata": {},
     "output_type": "execute_result"
    }
   ],
   "source": [
    "categorical_features.add(\"Hx Radiothreapy\")\n",
    "categorical_features"
   ]
  },
  {
   "cell_type": "code",
   "execution_count": 29,
   "metadata": {},
   "outputs": [
    {
     "data": {
      "text/plain": [
       "Hx Radiothreapy\n",
       "0    0.980769\n",
       "1    0.019231\n",
       "Name: proportion, dtype: float64"
      ]
     },
     "execution_count": 29,
     "metadata": {},
     "output_type": "execute_result"
    }
   ],
   "source": [
    "data[\"Hx Radiothreapy\"]=data[\"Hx Radiothreapy\"].apply(lambda x: 1 if str(x) == \"Yes\" else 0)\n",
    "data[\"Hx Radiothreapy\"].value_counts(normalize=True)"
   ]
  },
  {
   "cell_type": "code",
   "execution_count": 30,
   "metadata": {},
   "outputs": [
    {
     "data": {
      "text/plain": [
       "<Axes: title={'center': 'Hx Radiotherapy Distribution'}, xlabel='Hx Radiotherapy', ylabel='Frequency'>"
      ]
     },
     "execution_count": 30,
     "metadata": {},
     "output_type": "execute_result"
    },
    {
     "data": {
      "image/png": "[encoded data removed]",
      "text/plain": [
       "<Figure size 640x480 with 1 Axes>"
      ]
     },
     "metadata": {},
     "output_type": "display_data"
    }
   ],
   "source": [
    "data[\"Hx Radiothreapy\"].plot.hist(title=\"Hx Radiotherapy Distribution\", xlabel=\"Hx Radiotherapy\")"
   ]
  },
  {
   "cell_type": "markdown",
   "metadata": {},
   "source": [
    "> - We can say that almost all the patients has the history of **No Radiotherapy**. <br>\n",
    "> - Replaced **Yes** with **1** and **No** with **0**.\n"
   ]
  },
  {
   "cell_type": "markdown",
   "metadata": {},
   "source": [
    "### Thyroid Function\n",
    "\n",
    "is the status of the patient's thyroid gland, either normal, hyperthyroidism, or hypothyroidism\n"
   ]
  },
  {
   "cell_type": "code",
   "execution_count": 31,
   "metadata": {},
   "outputs": [
    {
     "data": {
      "text/plain": [
       "Thyroid Function\n",
       "Euthyroid                      0.859890\n",
       "Clinical Hyperthyroidism       0.054945\n",
       "Subclinical Hypothyroidism     0.038462\n",
       "Clinical Hypothyroidism        0.032967\n",
       "Subclinical Hyperthyroidism    0.013736\n",
       "Name: proportion, dtype: float64"
      ]
     },
     "execution_count": 31,
     "metadata": {},
     "output_type": "execute_result"
    }
   ],
   "source": [
    "data[\"Thyroid Function\"].value_counts(normalize=True)"
   ]
  },
  {
   "cell_type": "code",
   "execution_count": 32,
   "metadata": {},
   "outputs": [
    {
     "data": {
      "text/plain": [
       "{'Gender', 'Hx Radiothreapy', 'Hx Smoking', 'Smoking', 'Thyroid Function'}"
      ]
     },
     "execution_count": 32,
     "metadata": {},
     "output_type": "execute_result"
    }
   ],
   "source": [
    "categorical_features.add(\"Thyroid Function\")\n",
    "categorical_features"
   ]
  },
  {
   "cell_type": "code",
   "execution_count": 33,
   "metadata": {},
   "outputs": [
    {
     "data": {
      "text/plain": [
       "Thyroid Function\n",
       "2    0.859890\n",
       "0    0.054945\n",
       "4    0.038462\n",
       "1    0.032967\n",
       "3    0.013736\n",
       "Name: proportion, dtype: float64"
      ]
     },
     "execution_count": 33,
     "metadata": {},
     "output_type": "execute_result"
    }
   ],
   "source": [
    "data[\"Thyroid Function\"]=data[\"Thyroid Function\"].astype('category').cat.codes\n",
    "data[\"Thyroid Function\"].value_counts(normalize=True)"
   ]
  },
  {
   "cell_type": "markdown",
   "metadata": {},
   "source": [
    "### Physical Examination\n",
    "\n",
    "is the findings of the physical examination of the patient's pelvis, either normal, suspicious, or abnormal\n"
   ]
  },
  {
   "cell_type": "code",
   "execution_count": 34,
   "metadata": {},
   "outputs": [
    {
     "data": {
      "text/plain": [
       "Physical Examination\n",
       "Multinodular goiter            0.370879\n",
       "Single nodular goiter-right    0.348901\n",
       "Single nodular goiter-left     0.241758\n",
       "Normal                         0.019231\n",
       "Diffuse goiter                 0.019231\n",
       "Name: proportion, dtype: float64"
      ]
     },
     "execution_count": 34,
     "metadata": {},
     "output_type": "execute_result"
    }
   ],
   "source": [
    "data[\"Physical Examination\"].value_counts(normalize=True)"
   ]
  },
  {
   "cell_type": "code",
   "execution_count": 35,
   "metadata": {},
   "outputs": [
    {
     "data": {
      "text/plain": [
       "{'Gender',\n",
       " 'Hx Radiothreapy',\n",
       " 'Hx Smoking',\n",
       " 'Physical Examination',\n",
       " 'Smoking',\n",
       " 'Thyroid Function'}"
      ]
     },
     "execution_count": 35,
     "metadata": {},
     "output_type": "execute_result"
    }
   ],
   "source": [
    "categorical_features.add(\"Physical Examination\")\n",
    "categorical_features"
   ]
  },
  {
   "cell_type": "code",
   "execution_count": 36,
   "metadata": {},
   "outputs": [
    {
     "data": {
      "text/plain": [
       "Physical Examination\n",
       "1    0.370879\n",
       "4    0.348901\n",
       "3    0.241758\n",
       "2    0.019231\n",
       "0    0.019231\n",
       "Name: proportion, dtype: float64"
      ]
     },
     "execution_count": 36,
     "metadata": {},
     "output_type": "execute_result"
    }
   ],
   "source": [
    "data[\"Physical Examination\"]=data[\"Physical Examination\"].astype(\"category\").cat.codes\n",
    "data[\"Physical Examination\"].value_counts(normalize=True)"
   ]
  },
  {
   "cell_type": "markdown",
   "metadata": {},
   "source": [
    "### Adenopathy\n",
    "\n",
    "is whether the patient has enlarged lymph nodes\n"
   ]
  },
  {
   "cell_type": "code",
   "execution_count": 37,
   "metadata": {},
   "outputs": [
    {
     "data": {
      "text/plain": [
       "Adenopathy\n",
       "No           0.708791\n",
       "Right        0.131868\n",
       "Bilateral    0.087912\n",
       "Left         0.046703\n",
       "Extensive    0.019231\n",
       "Posterior    0.005495\n",
       "Name: proportion, dtype: float64"
      ]
     },
     "execution_count": 37,
     "metadata": {},
     "output_type": "execute_result"
    }
   ],
   "source": [
    "data[\"Adenopathy\"].value_counts(normalize=True)"
   ]
  },
  {
   "cell_type": "code",
   "execution_count": 38,
   "metadata": {},
   "outputs": [
    {
     "data": {
      "text/plain": [
       "{'Adenopathy',\n",
       " 'Gender',\n",
       " 'Hx Radiothreapy',\n",
       " 'Hx Smoking',\n",
       " 'Physical Examination',\n",
       " 'Smoking',\n",
       " 'Thyroid Function'}"
      ]
     },
     "execution_count": 38,
     "metadata": {},
     "output_type": "execute_result"
    }
   ],
   "source": [
    "categorical_features.add(\"Adenopathy\")\n",
    "categorical_features"
   ]
  },
  {
   "cell_type": "code",
   "execution_count": 39,
   "metadata": {},
   "outputs": [
    {
     "data": {
      "text/plain": [
       "Adenopathy\n",
       "3    0.708791\n",
       "5    0.131868\n",
       "0    0.087912\n",
       "2    0.046703\n",
       "1    0.019231\n",
       "4    0.005495\n",
       "Name: proportion, dtype: float64"
      ]
     },
     "execution_count": 39,
     "metadata": {},
     "output_type": "execute_result"
    }
   ],
   "source": [
    "data[\"Adenopathy\"]=data[\"Adenopathy\"].astype(\"category\").cat.codes\n",
    "data[\"Adenopathy\"].value_counts(normalize=True)"
   ]
  },
  {
   "cell_type": "markdown",
   "metadata": {},
   "source": [
    "### Pathology\n",
    "\n",
    "is the type of endometrial cancer\n"
   ]
  },
  {
   "cell_type": "code",
   "execution_count": 40,
   "metadata": {},
   "outputs": [
    {
     "data": {
      "text/plain": [
       "Pathology\n",
       "Papillary         0.744505\n",
       "Micropapillary    0.123626\n",
       "Follicular        0.076923\n",
       "Hurthel cell      0.054945\n",
       "Name: proportion, dtype: float64"
      ]
     },
     "execution_count": 40,
     "metadata": {},
     "output_type": "execute_result"
    }
   ],
   "source": [
    "data[\"Pathology\"].value_counts(normalize=True)"
   ]
  },
  {
   "cell_type": "code",
   "execution_count": 41,
   "metadata": {},
   "outputs": [
    {
     "data": {
      "text/plain": [
       "{'Adenopathy',\n",
       " 'Gender',\n",
       " 'Hx Radiothreapy',\n",
       " 'Hx Smoking',\n",
       " 'Pathology',\n",
       " 'Physical Examination',\n",
       " 'Smoking',\n",
       " 'Thyroid Function'}"
      ]
     },
     "execution_count": 41,
     "metadata": {},
     "output_type": "execute_result"
    }
   ],
   "source": [
    "categorical_features.add(\"Pathology\")\n",
    "categorical_features"
   ]
  },
  {
   "cell_type": "code",
   "execution_count": 42,
   "metadata": {},
   "outputs": [
    {
     "data": {
      "text/plain": [
       "Pathology\n",
       "3    0.744505\n",
       "2    0.123626\n",
       "0    0.076923\n",
       "1    0.054945\n",
       "Name: proportion, dtype: float64"
      ]
     },
     "execution_count": 42,
     "metadata": {},
     "output_type": "execute_result"
    }
   ],
   "source": [
    "data[\"Pathology\"]=data[\"Pathology\"].astype(\"category\").cat.codes\n",
    "data[\"Pathology\"].value_counts(normalize=True)"
   ]
  },
  {
   "cell_type": "markdown",
   "metadata": {},
   "source": [
    "### Focality\n",
    "\n",
    "is the number of foci of cancer in the endometrium, either unifocal or multifocal\n"
   ]
  },
  {
   "cell_type": "code",
   "execution_count": 43,
   "metadata": {},
   "outputs": [
    {
     "data": {
      "text/plain": [
       "Focality\n",
       "Uni-Focal      0.626374\n",
       "Multi-Focal    0.373626\n",
       "Name: proportion, dtype: float64"
      ]
     },
     "execution_count": 43,
     "metadata": {},
     "output_type": "execute_result"
    }
   ],
   "source": [
    "data[\"Focality\"].value_counts(normalize=True)"
   ]
  },
  {
   "cell_type": "code",
   "execution_count": 44,
   "metadata": {},
   "outputs": [
    {
     "data": {
      "text/plain": [
       "{'Adenopathy',\n",
       " 'Focality',\n",
       " 'Gender',\n",
       " 'Hx Radiothreapy',\n",
       " 'Hx Smoking',\n",
       " 'Pathology',\n",
       " 'Physical Examination',\n",
       " 'Smoking',\n",
       " 'Thyroid Function'}"
      ]
     },
     "execution_count": 44,
     "metadata": {},
     "output_type": "execute_result"
    }
   ],
   "source": [
    "categorical_features.add(\"Focality\")\n",
    "categorical_features"
   ]
  },
  {
   "cell_type": "code",
   "execution_count": 45,
   "metadata": {},
   "outputs": [
    {
     "data": {
      "text/plain": [
       "Focality\n",
       "0    0.626374\n",
       "1    0.373626\n",
       "Name: proportion, dtype: float64"
      ]
     },
     "execution_count": 45,
     "metadata": {},
     "output_type": "execute_result"
    }
   ],
   "source": [
    "data[\"Focality\"]=data[\"Focality\"].apply(lambda x: 1 if str(x) == \"Multi-Focal\" else 0)\n",
    "data[\"Focality\"].value_counts(normalize=True)"
   ]
  },
  {
   "cell_type": "code",
   "execution_count": 46,
   "metadata": {},
   "outputs": [
    {
     "data": {
      "text/plain": [
       "<Axes: title={'center': 'Focality Distribution'}, xlabel='Focality', ylabel='Frequency'>"
      ]
     },
     "execution_count": 46,
     "metadata": {},
     "output_type": "execute_result"
    },
    {
     "data": {
      "image/png": "[encoded data removed]",
      "text/plain": [
       "<Figure size 640x480 with 1 Axes>"
      ]
     },
     "metadata": {},
     "output_type": "display_data"
    }
   ],
   "source": [
    "data[\"Focality\"].plot.hist(title=\"Focality Distribution\", xlabel=\"Focality\")"
   ]
  },
  {
   "cell_type": "markdown",
   "metadata": {},
   "source": [
    "> - It's evident that the patients with Uni-Focal is more than the patients with Multi-Focal\n",
    "> - Replaced **Multi-Focal** with **1** and **Uni-Focal** with **0**.\n"
   ]
  },
  {
   "cell_type": "markdown",
   "metadata": {},
   "source": [
    "### Risk\n",
    "\n",
    "`Ordinal Feature`\n",
    "\n",
    "is the risk category of the patient, based on the stage and grade of the cancer, either low, intermediate, or high\n"
   ]
  },
  {
   "cell_type": "code",
   "execution_count": 47,
   "metadata": {},
   "outputs": [
    {
     "data": {
      "text/plain": [
       "Risk\n",
       "Low             0.631868\n",
       "Intermediate    0.280220\n",
       "High            0.087912\n",
       "Name: proportion, dtype: float64"
      ]
     },
     "execution_count": 47,
     "metadata": {},
     "output_type": "execute_result"
    }
   ],
   "source": [
    "data[\"Risk\"].value_counts(normalize=True)"
   ]
  },
  {
   "cell_type": "code",
   "execution_count": 48,
   "metadata": {},
   "outputs": [
    {
     "data": {
      "text/plain": [
       "{'Adenopathy',\n",
       " 'Focality',\n",
       " 'Gender',\n",
       " 'Hx Radiothreapy',\n",
       " 'Hx Smoking',\n",
       " 'Pathology',\n",
       " 'Physical Examination',\n",
       " 'Risk',\n",
       " 'Smoking',\n",
       " 'Thyroid Function'}"
      ]
     },
     "execution_count": 48,
     "metadata": {},
     "output_type": "execute_result"
    }
   ],
   "source": [
    "categorical_features.add(\"Risk\")\n",
    "categorical_features"
   ]
  },
  {
   "cell_type": "code",
   "execution_count": 49,
   "metadata": {},
   "outputs": [
    {
     "data": {
      "text/plain": [
       "Risk\n",
       "0.0    0.631868\n",
       "1.0    0.280220\n",
       "2.0    0.087912\n",
       "Name: proportion, dtype: float64"
      ]
     },
     "execution_count": 49,
     "metadata": {},
     "output_type": "execute_result"
    }
   ],
   "source": [
    "ordinal_encoder = OrdinalEncoder(categories=[[\"Low\", \"Intermediate\", \"High\"]])\n",
    "data[\"Risk\"]=ordinal_encoder.fit_transform(X=np.reshape(data[[\"Risk\"]], newshape=(-1,1)))\n",
    "data[\"Risk\"].value_counts(normalize=True)"
   ]
  },
  {
   "cell_type": "markdown",
   "metadata": {},
   "source": [
    "> - We can see that the percentage of Low Risk patient is more.\n",
    "> - Encode the data with OrdinalEncoder, replace **Low** with **0.0**, **Intermediate** with **1.0** and **High** with **2.0**.\n"
   ]
  },
  {
   "cell_type": "markdown",
   "metadata": {},
   "source": [
    "### T\n",
    "\n",
    "is the size and extent of the primary tumor, based on the TNM staging system\n",
    "\n",
    "- **T1:** Tumor is 2 cm or smaller in diameter\n",
    "- **T2:** Tumor is larger than 2 cm but not larger than 5 cm in diameter\n",
    "- **T3:** Tumor is larger than 5 cm in diameter\n",
    "- **T4:** Tumor has grown into the chest wall or skin\n"
   ]
  },
  {
   "cell_type": "code",
   "execution_count": 50,
   "metadata": {},
   "outputs": [
    {
     "data": {
      "text/plain": [
       "T\n",
       "T2     0.379121\n",
       "T3a    0.263736\n",
       "T1a    0.126374\n",
       "T1b    0.109890\n",
       "T4a    0.054945\n",
       "T3b    0.043956\n",
       "T4b    0.021978\n",
       "Name: proportion, dtype: float64"
      ]
     },
     "execution_count": 50,
     "metadata": {},
     "output_type": "execute_result"
    }
   ],
   "source": [
    "data[\"T\"].value_counts(normalize=True)"
   ]
  },
  {
   "cell_type": "code",
   "execution_count": 51,
   "metadata": {},
   "outputs": [
    {
     "data": {
      "text/plain": [
       "{'Adenopathy',\n",
       " 'Focality',\n",
       " 'Gender',\n",
       " 'Hx Radiothreapy',\n",
       " 'Hx Smoking',\n",
       " 'Pathology',\n",
       " 'Physical Examination',\n",
       " 'Risk',\n",
       " 'Smoking',\n",
       " 'T',\n",
       " 'Thyroid Function'}"
      ]
     },
     "execution_count": 51,
     "metadata": {},
     "output_type": "execute_result"
    }
   ],
   "source": [
    "categorical_features.add(\"T\")\n",
    "categorical_features"
   ]
  },
  {
   "cell_type": "code",
   "execution_count": 52,
   "metadata": {},
   "outputs": [
    {
     "data": {
      "text/plain": [
       "T\n",
       "2.0    0.379121\n",
       "3.0    0.263736\n",
       "0.0    0.126374\n",
       "1.0    0.109890\n",
       "5.0    0.054945\n",
       "4.0    0.043956\n",
       "6.0    0.021978\n",
       "Name: proportion, dtype: float64"
      ]
     },
     "execution_count": 52,
     "metadata": {},
     "output_type": "execute_result"
    }
   ],
   "source": [
    "ordinal_encoder=OrdinalEncoder(categories=[[\"T1a\",\"T1b\",\"T2\",\"T3a\",\"T3b\",\"T4a\",\"T4b\"]])\n",
    "data[\"T\"]=ordinal_encoder.fit_transform(X=np.reshape(data[\"T\"], newshape=(-1,1)))\n",
    "data[\"T\"].value_counts(normalize=True)"
   ]
  },
  {
   "cell_type": "markdown",
   "metadata": {},
   "source": [
    "> - Replace **T1a** with **0**, **T1b** with **1**, **T2** with **2**, **T3a** with **3**, **T3b** with **4**, **T4a** with **5** and **T4b** with **6**.\n"
   ]
  },
  {
   "cell_type": "markdown",
   "metadata": {},
   "source": [
    "### N\n",
    "\n",
    "is the involvement of regional lymph nodes, based on the TNM staging system\n",
    "\n",
    "- **N0:** No regional lymph node involvement\n",
    "- **N1a:** Micrometastases in 1 to 3 axillary lymph nodes\n",
    "- **N1b:** Macrometastases in 1 to 3 axillary lymph nodes\n"
   ]
  },
  {
   "cell_type": "code",
   "execution_count": 53,
   "metadata": {},
   "outputs": [
    {
     "data": {
      "text/plain": [
       "N\n",
       "N0     0.684066\n",
       "N1b    0.255495\n",
       "N1a    0.060440\n",
       "Name: proportion, dtype: float64"
      ]
     },
     "execution_count": 53,
     "metadata": {},
     "output_type": "execute_result"
    }
   ],
   "source": [
    "data[\"N\"].value_counts(normalize=True)"
   ]
  },
  {
   "cell_type": "code",
   "execution_count": 54,
   "metadata": {},
   "outputs": [
    {
     "data": {
      "text/plain": [
       "{'Adenopathy',\n",
       " 'Focality',\n",
       " 'Gender',\n",
       " 'Hx Radiothreapy',\n",
       " 'Hx Smoking',\n",
       " 'N',\n",
       " 'Pathology',\n",
       " 'Physical Examination',\n",
       " 'Risk',\n",
       " 'Smoking',\n",
       " 'T',\n",
       " 'Thyroid Function'}"
      ]
     },
     "execution_count": 54,
     "metadata": {},
     "output_type": "execute_result"
    }
   ],
   "source": [
    "categorical_features.add(\"N\")\n",
    "categorical_features"
   ]
  },
  {
   "cell_type": "code",
   "execution_count": 55,
   "metadata": {},
   "outputs": [
    {
     "data": {
      "text/plain": [
       "N\n",
       "0.0    0.684066\n",
       "2.0    0.255495\n",
       "1.0    0.060440\n",
       "Name: proportion, dtype: float64"
      ]
     },
     "execution_count": 55,
     "metadata": {},
     "output_type": "execute_result"
    }
   ],
   "source": [
    "ordinal_encoder = OrdinalEncoder(categories=[[\"N0\",\"N1a\",\"N1b\"]])\n",
    "data[\"N\"] = ordinal_encoder.fit_transform(X=np.reshape(a=data[\"N\"], newshape=(-1,1)))\n",
    "data[\"N\"].value_counts(normalize=True)"
   ]
  },
  {
   "cell_type": "markdown",
   "metadata": {},
   "source": [
    "> - Replace **N0** with **0.0**, **N1a** with **1.0** and **N1b** with **2.0**.\n"
   ]
  },
  {
   "cell_type": "markdown",
   "metadata": {},
   "source": [
    "### M\n",
    "\n",
    "is the presence of distant metastasis, based on the TNM staging system, either M0 or M1\n",
    "\n",
    "- **M0:** No distant metastasis\n",
    "- **M1:** Distant metastasis\n"
   ]
  },
  {
   "cell_type": "code",
   "execution_count": 56,
   "metadata": {},
   "outputs": [
    {
     "data": {
      "text/plain": [
       "M\n",
       "M0    0.950549\n",
       "M1    0.049451\n",
       "Name: proportion, dtype: float64"
      ]
     },
     "execution_count": 56,
     "metadata": {},
     "output_type": "execute_result"
    }
   ],
   "source": [
    "data[\"M\"].value_counts(normalize=True)"
   ]
  },
  {
   "cell_type": "code",
   "execution_count": 57,
   "metadata": {},
   "outputs": [
    {
     "data": {
      "text/plain": [
       "{'Adenopathy',\n",
       " 'Focality',\n",
       " 'Gender',\n",
       " 'Hx Radiothreapy',\n",
       " 'Hx Smoking',\n",
       " 'M',\n",
       " 'N',\n",
       " 'Pathology',\n",
       " 'Physical Examination',\n",
       " 'Risk',\n",
       " 'Smoking',\n",
       " 'T',\n",
       " 'Thyroid Function'}"
      ]
     },
     "execution_count": 57,
     "metadata": {},
     "output_type": "execute_result"
    }
   ],
   "source": [
    "categorical_features.add(\"M\")\n",
    "categorical_features"
   ]
  },
  {
   "cell_type": "code",
   "execution_count": 58,
   "metadata": {},
   "outputs": [
    {
     "data": {
      "text/plain": [
       "M\n",
       "0.0    0.950549\n",
       "1.0    0.049451\n",
       "Name: proportion, dtype: float64"
      ]
     },
     "execution_count": 58,
     "metadata": {},
     "output_type": "execute_result"
    }
   ],
   "source": [
    "ordinal_encoder = OrdinalEncoder(categories=[[\"M0\",\"M1\"]])\n",
    "data[\"M\"]=ordinal_encoder.fit_transform(X=np.reshape(a=data[\"M\"], newshape=(-1,1)))\n",
    "data[\"M\"].value_counts(normalize=True)"
   ]
  },
  {
   "cell_type": "markdown",
   "metadata": {},
   "source": [
    "> - Almost majority of the patients has no distant metasis.\n",
    "> - Replace **M0** with **0.0** and **M1** with **1.0**.\n"
   ]
  },
  {
   "cell_type": "markdown",
   "metadata": {},
   "source": [
    "### Stage\n",
    "\n",
    "is the overall stage of the cancer, based on the FIGO staging system\n",
    "\n",
    "- **Stage I:** The tumor is small and has not spread to the lymph nodes or other parts of the body.\n",
    "- **Stage II:** The tumor is larger or has spread to nearby lymph nodes, but not to distant organs.\n",
    "- **Stage III:** The tumor is even larger or has spread to more lymph nodes or nearby tissues, but not to distant organs.\n",
    "- **Stage IV:** The cancer has spread to distant organs, such as the lungs, liver, or bones.\n"
   ]
  },
  {
   "cell_type": "code",
   "execution_count": 59,
   "metadata": {},
   "outputs": [
    {
     "data": {
      "text/plain": [
       "Stage\n",
       "I      0.862637\n",
       "II     0.087912\n",
       "IVB    0.030220\n",
       "III    0.010989\n",
       "IVA    0.008242\n",
       "Name: proportion, dtype: float64"
      ]
     },
     "execution_count": 59,
     "metadata": {},
     "output_type": "execute_result"
    }
   ],
   "source": [
    "data[\"Stage\"].value_counts(normalize=True)"
   ]
  },
  {
   "cell_type": "code",
   "execution_count": 60,
   "metadata": {},
   "outputs": [
    {
     "data": {
      "text/plain": [
       "{'Adenopathy',\n",
       " 'Focality',\n",
       " 'Gender',\n",
       " 'Hx Radiothreapy',\n",
       " 'Hx Smoking',\n",
       " 'M',\n",
       " 'N',\n",
       " 'Pathology',\n",
       " 'Physical Examination',\n",
       " 'Risk',\n",
       " 'Smoking',\n",
       " 'Stage',\n",
       " 'T',\n",
       " 'Thyroid Function'}"
      ]
     },
     "execution_count": 60,
     "metadata": {},
     "output_type": "execute_result"
    }
   ],
   "source": [
    "categorical_features.add(\"Stage\")\n",
    "categorical_features"
   ]
  },
  {
   "cell_type": "code",
   "execution_count": 61,
   "metadata": {},
   "outputs": [
    {
     "data": {
      "text/plain": [
       "Stage\n",
       "0.0    0.862637\n",
       "1.0    0.087912\n",
       "4.0    0.030220\n",
       "2.0    0.010989\n",
       "3.0    0.008242\n",
       "Name: proportion, dtype: float64"
      ]
     },
     "execution_count": 61,
     "metadata": {},
     "output_type": "execute_result"
    }
   ],
   "source": [
    "ordinal_encoder = OrdinalEncoder(categories=[[\"I\",\"II\",\"III\",\"IVA\",\"IVB\"]])\n",
    "data[\"Stage\"]=ordinal_encoder.fit_transform(X=np.reshape(a=data[\"Stage\"], newshape=(-1,1)))\n",
    "data[\"Stage\"].value_counts(normalize=True)"
   ]
  },
  {
   "cell_type": "markdown",
   "metadata": {},
   "source": [
    "> - The majority of the patients has Stage I Cancer.\n",
    "> - Replace I with 0.0, II with 1.0, III with 2.0, IVA with 3.0 and IVB with 4.0.\n"
   ]
  },
  {
   "cell_type": "markdown",
   "metadata": {},
   "source": [
    "### Response\n",
    "\n",
    "is the response of the patient to the treatment\n",
    "\n",
    "- **Excellent:** Complete response or partial response with no evidence of disease progression or recurrence.\n",
    "- **Structural Incomplete:** Partial response with residual disease or stable disease with no change in tumor size or extent.\n",
    "- **Indeterminate:** Stable disease with minor changes in tumor size or extent, or progressive disease with minor increase in tumor size or extent.\n",
    "- **Biochemical Incomplete:** Progressive disease with significant increase in tumor size or extent, or appearance of new lesions.\n"
   ]
  },
  {
   "cell_type": "code",
   "execution_count": 62,
   "metadata": {},
   "outputs": [
    {
     "data": {
      "text/plain": [
       "Response\n",
       "Excellent                 0.519231\n",
       "Structural Incomplete     0.250000\n",
       "Indeterminate             0.167582\n",
       "Biochemical Incomplete    0.063187\n",
       "Name: proportion, dtype: float64"
      ]
     },
     "execution_count": 62,
     "metadata": {},
     "output_type": "execute_result"
    }
   ],
   "source": [
    "data[\"Response\"].value_counts(normalize=True)"
   ]
  },
  {
   "cell_type": "code",
   "execution_count": 63,
   "metadata": {},
   "outputs": [
    {
     "data": {
      "text/plain": [
       "{'Adenopathy',\n",
       " 'Focality',\n",
       " 'Gender',\n",
       " 'Hx Radiothreapy',\n",
       " 'Hx Smoking',\n",
       " 'M',\n",
       " 'N',\n",
       " 'Pathology',\n",
       " 'Physical Examination',\n",
       " 'Response',\n",
       " 'Risk',\n",
       " 'Smoking',\n",
       " 'Stage',\n",
       " 'T',\n",
       " 'Thyroid Function'}"
      ]
     },
     "execution_count": 63,
     "metadata": {},
     "output_type": "execute_result"
    }
   ],
   "source": [
    "categorical_features.add(\"Response\")\n",
    "categorical_features"
   ]
  },
  {
   "cell_type": "code",
   "execution_count": 64,
   "metadata": {},
   "outputs": [
    {
     "data": {
      "text/plain": [
       "Response\n",
       "0.0    0.519231\n",
       "1.0    0.250000\n",
       "2.0    0.167582\n",
       "3.0    0.063187\n",
       "Name: proportion, dtype: float64"
      ]
     },
     "execution_count": 64,
     "metadata": {},
     "output_type": "execute_result"
    }
   ],
   "source": [
    "ordinal_encoder = OrdinalEncoder(\n",
    "    categories=[[\"Excellent\",\"Structural Incomplete\",\"Indeterminate\",\"Biochemical Incomplete\"]]\n",
    "    )\n",
    "data[\"Response\"]=ordinal_encoder.fit_transform(X=np.reshape(a=data[\"Response\"],newshape=(-1,1)))\n",
    "data[\"Response\"].value_counts(normalize=True)"
   ]
  },
  {
   "cell_type": "markdown",
   "metadata": {},
   "source": [
    "> - We can see that majority of the patients has Excellent Response.\n",
    "> - Replace Excellent with 0.0, Structural Incomplete with 1.0, Indeterminate with 2.0 and Biochemical Incomplete with 3.0.\n"
   ]
  },
  {
   "cell_type": "markdown",
   "metadata": {},
   "source": [
    "## Data Scaling"
   ]
  },
  {
   "cell_type": "code",
   "execution_count": 65,
   "metadata": {},
   "outputs": [],
   "source": [
    "X = data.drop(labels=[\"Recurred\"], axis=1)\n",
    "y = data[\"Recurred\"]"
   ]
  },
  {
   "cell_type": "code",
   "execution_count": 66,
   "metadata": {},
   "outputs": [
    {
     "data": {
      "text/html": [
       "<div>\n",
       "<style scoped>\n",
       "    .dataframe tbody tr th:only-of-type {\n",
       "        vertical-align: middle;\n",
       "    }\n",
       "\n",
       "    .dataframe tbody tr th {\n",
       "        vertical-align: top;\n",
       "    }\n",
       "\n",
       "    .dataframe thead th {\n",
       "        text-align: right;\n",
       "    }\n",
       "</style>\n",
       "<table border=\"1\" class=\"dataframe\">\n",
       "  <thead>\n",
       "    <tr style=\"text-align: right;\">\n",
       "      <th></th>\n",
       "      <th>Age</th>\n",
       "      <th>Gender</th>\n",
       "      <th>Smoking</th>\n",
       "      <th>Hx Smoking</th>\n",
       "      <th>Hx Radiothreapy</th>\n",
       "      <th>Thyroid Function</th>\n",
       "      <th>Physical Examination</th>\n",
       "      <th>Adenopathy</th>\n",
       "      <th>Pathology</th>\n",
       "      <th>Focality</th>\n",
       "      <th>Risk</th>\n",
       "      <th>T</th>\n",
       "      <th>N</th>\n",
       "      <th>M</th>\n",
       "      <th>Stage</th>\n",
       "      <th>Response</th>\n",
       "    </tr>\n",
       "  </thead>\n",
       "  <tbody>\n",
       "    <tr>\n",
       "      <th>0</th>\n",
       "      <td>-0.500000</td>\n",
       "      <td>0</td>\n",
       "      <td>0</td>\n",
       "      <td>0</td>\n",
       "      <td>0</td>\n",
       "      <td>0</td>\n",
       "      <td>0.000000</td>\n",
       "      <td>0</td>\n",
       "      <td>-1</td>\n",
       "      <td>0</td>\n",
       "      <td>0.0</td>\n",
       "      <td>-2.0</td>\n",
       "      <td>0.0</td>\n",
       "      <td>0.0</td>\n",
       "      <td>0.0</td>\n",
       "      <td>2.0</td>\n",
       "    </tr>\n",
       "    <tr>\n",
       "      <th>1</th>\n",
       "      <td>-0.181818</td>\n",
       "      <td>0</td>\n",
       "      <td>0</td>\n",
       "      <td>1</td>\n",
       "      <td>0</td>\n",
       "      <td>0</td>\n",
       "      <td>-0.666667</td>\n",
       "      <td>0</td>\n",
       "      <td>-1</td>\n",
       "      <td>0</td>\n",
       "      <td>0.0</td>\n",
       "      <td>-2.0</td>\n",
       "      <td>0.0</td>\n",
       "      <td>0.0</td>\n",
       "      <td>0.0</td>\n",
       "      <td>0.0</td>\n",
       "    </tr>\n",
       "    <tr>\n",
       "      <th>2</th>\n",
       "      <td>-0.363636</td>\n",
       "      <td>0</td>\n",
       "      <td>0</td>\n",
       "      <td>0</td>\n",
       "      <td>0</td>\n",
       "      <td>0</td>\n",
       "      <td>0.333333</td>\n",
       "      <td>0</td>\n",
       "      <td>-1</td>\n",
       "      <td>0</td>\n",
       "      <td>0.0</td>\n",
       "      <td>-2.0</td>\n",
       "      <td>0.0</td>\n",
       "      <td>0.0</td>\n",
       "      <td>0.0</td>\n",
       "      <td>0.0</td>\n",
       "    </tr>\n",
       "    <tr>\n",
       "      <th>3</th>\n",
       "      <td>1.090909</td>\n",
       "      <td>0</td>\n",
       "      <td>0</td>\n",
       "      <td>0</td>\n",
       "      <td>0</td>\n",
       "      <td>0</td>\n",
       "      <td>0.333333</td>\n",
       "      <td>0</td>\n",
       "      <td>-1</td>\n",
       "      <td>0</td>\n",
       "      <td>0.0</td>\n",
       "      <td>-2.0</td>\n",
       "      <td>0.0</td>\n",
       "      <td>0.0</td>\n",
       "      <td>0.0</td>\n",
       "      <td>0.0</td>\n",
       "    </tr>\n",
       "    <tr>\n",
       "      <th>4</th>\n",
       "      <td>1.090909</td>\n",
       "      <td>0</td>\n",
       "      <td>0</td>\n",
       "      <td>0</td>\n",
       "      <td>0</td>\n",
       "      <td>0</td>\n",
       "      <td>-0.666667</td>\n",
       "      <td>0</td>\n",
       "      <td>-1</td>\n",
       "      <td>1</td>\n",
       "      <td>0.0</td>\n",
       "      <td>-2.0</td>\n",
       "      <td>0.0</td>\n",
       "      <td>0.0</td>\n",
       "      <td>0.0</td>\n",
       "      <td>0.0</td>\n",
       "    </tr>\n",
       "  </tbody>\n",
       "</table>\n",
       "</div>"
      ],
      "text/plain": [
       "        Age  Gender  Smoking  Hx Smoking  Hx Radiothreapy  Thyroid Function  \\\n",
       "0 -0.500000       0        0           0                0                 0   \n",
       "1 -0.181818       0        0           1                0                 0   \n",
       "2 -0.363636       0        0           0                0                 0   \n",
       "3  1.090909       0        0           0                0                 0   \n",
       "4  1.090909       0        0           0                0                 0   \n",
       "\n",
       "   Physical Examination  Adenopathy  Pathology  Focality  Risk    T    N    M  \\\n",
       "0              0.000000           0         -1         0   0.0 -2.0  0.0  0.0   \n",
       "1             -0.666667           0         -1         0   0.0 -2.0  0.0  0.0   \n",
       "2              0.333333           0         -1         0   0.0 -2.0  0.0  0.0   \n",
       "3              0.333333           0         -1         0   0.0 -2.0  0.0  0.0   \n",
       "4             -0.666667           0         -1         1   0.0 -2.0  0.0  0.0   \n",
       "\n",
       "   Stage  Response  \n",
       "0    0.0       2.0  \n",
       "1    0.0       0.0  \n",
       "2    0.0       0.0  \n",
       "3    0.0       0.0  \n",
       "4    0.0       0.0  "
      ]
     },
     "execution_count": 66,
     "metadata": {},
     "output_type": "execute_result"
    }
   ],
   "source": [
    "robust = RobustScaler()\n",
    "X.iloc[:,:] = robust.fit_transform(X)\n",
    "X.head()"
   ]
  },
  {
   "cell_type": "markdown",
   "metadata": {},
   "source": [
    "## Data Split"
   ]
  },
  {
   "cell_type": "code",
   "execution_count": 67,
   "metadata": {},
   "outputs": [
    {
     "data": {
      "text/plain": [
       "((291, 16), (73, 16), (291,), (73,))"
      ]
     },
     "execution_count": 67,
     "metadata": {},
     "output_type": "execute_result"
    }
   ],
   "source": [
    "X_train, X_test, y_train, y_test = train_test_split(X,y,test_size=0.2)\n",
    "X_train.shape, X_test.shape, y_train.shape, y_test.shape"
   ]
  },
  {
   "cell_type": "markdown",
   "metadata": {},
   "source": [
    "## Modelling"
   ]
  },
  {
   "cell_type": "markdown",
   "metadata": {},
   "source": [
    "### LogisticRegression - Base"
   ]
  },
  {
   "cell_type": "code",
   "execution_count": 68,
   "metadata": {},
   "outputs": [
    {
     "name": "stdout",
     "output_type": "stream",
     "text": [
      "Accuracy Score: 0.8356164383561644\n",
      "              precision    recall  f1-score   support\n",
      "\n",
      "           0       0.86      0.90      0.88        49\n",
      "           1       0.77      0.71      0.74        24\n",
      "\n",
      "    accuracy                           0.84        73\n",
      "   macro avg       0.82      0.80      0.81        73\n",
      "weighted avg       0.83      0.84      0.83        73\n",
      "\n"
     ]
    }
   ],
   "source": [
    "LR = LogisticRegression()\n",
    "\n",
    "LR.fit(\n",
    "    X=X_train,\n",
    "    y=y_train\n",
    ")\n",
    "\n",
    "y_pred = LR.predict(X_test)\n",
    "\n",
    "accuracy = accuracy_score(\n",
    "    y_true=y_test,\n",
    "    y_pred=y_pred\n",
    ")\n",
    "\n",
    "classi_report = classification_report(\n",
    "    y_true=y_test,\n",
    "    y_pred=y_pred\n",
    ")\n",
    "\n",
    "print(f\"Accuracy Score: {accuracy}\")\n",
    "print(classi_report)"
   ]
  },
  {
   "cell_type": "markdown",
   "metadata": {},
   "source": [
    "### LogisticRegression - Tuned"
   ]
  },
  {
   "cell_type": "code",
   "execution_count": 69,
   "metadata": {},
   "outputs": [
    {
     "name": "stdout",
     "output_type": "stream",
     "text": [
      "Accuracy Score: 0.8356164383561644\n",
      "              precision    recall  f1-score   support\n",
      "\n",
      "           0       0.86      0.90      0.88        49\n",
      "           1       0.77      0.71      0.74        24\n",
      "\n",
      "    accuracy                           0.84        73\n",
      "   macro avg       0.82      0.80      0.81        73\n",
      "weighted avg       0.83      0.84      0.83        73\n",
      "\n",
      "Best parameters:  {'C': 0.1, 'penalty': 'l2'}\n",
      "Best score:  0.8661601402688486\n"
     ]
    }
   ],
   "source": [
    "param_grid = {\"C\": np.logspace(-3, 3, 7), \"penalty\": [\"l1\", \"l2\"]}\n",
    "\n",
    "LR = LogisticRegression(solver=\"liblinear\")\n",
    "LR_GSC = GridSearchCV(LR, param_grid, cv=5, scoring=\"accuracy\")\n",
    "\n",
    "LR_GSC.fit(\n",
    "    X=X_train,\n",
    "    y=y_train\n",
    ")\n",
    "\n",
    "y_pred = LR_GSC.predict(X_test)\n",
    "\n",
    "accuracy = accuracy_score(\n",
    "    y_true=y_test,\n",
    "    y_pred=y_pred\n",
    ")\n",
    "\n",
    "classi_report = classification_report(\n",
    "    y_true=y_test,\n",
    "    y_pred=y_pred\n",
    ")\n",
    "\n",
    "print(f\"Accuracy Score: {accuracy}\")\n",
    "print(classi_report)\n",
    "\n",
    "\n",
    "print(\"Best parameters: \", LR_GSC.best_params_)\n",
    "print(\"Best score: \", LR_GSC.best_score_)"
   ]
  },
  {
   "cell_type": "markdown",
   "metadata": {},
   "source": [
    "### DecisionTreeClassifier - Base"
   ]
  },
  {
   "cell_type": "code",
   "execution_count": 70,
   "metadata": {},
   "outputs": [
    {
     "name": "stdout",
     "output_type": "stream",
     "text": [
      "Accuracy Score: 0.9863013698630136\n",
      "              precision    recall  f1-score   support\n",
      "\n",
      "           0       1.00      0.98      0.99        49\n",
      "           1       0.96      1.00      0.98        24\n",
      "\n",
      "    accuracy                           0.99        73\n",
      "   macro avg       0.98      0.99      0.98        73\n",
      "weighted avg       0.99      0.99      0.99        73\n",
      "\n"
     ]
    }
   ],
   "source": [
    "DTC = DecisionTreeClassifier()\n",
    "\n",
    "DTC.fit(\n",
    "    X=X_train,\n",
    "    y=y_train\n",
    ")\n",
    "\n",
    "y_pred = DTC.predict(X_test)\n",
    "\n",
    "accuracy = accuracy_score(\n",
    "    y_true=y_test,\n",
    "    y_pred=y_pred\n",
    ")\n",
    "\n",
    "classi_report = classification_report(\n",
    "    y_true=y_test,\n",
    "    y_pred=y_pred\n",
    ")\n",
    "\n",
    "print(f\"Accuracy Score: {accuracy}\")\n",
    "print(classi_report)"
   ]
  },
  {
   "cell_type": "markdown",
   "metadata": {},
   "source": [
    "### DecisionTreeClassifier - Tuned"
   ]
  },
  {
   "cell_type": "code",
   "execution_count": 71,
   "metadata": {},
   "outputs": [
    {
     "name": "stdout",
     "output_type": "stream",
     "text": [
      "Accuracy Score: 1.0\n",
      "              precision    recall  f1-score   support\n",
      "\n",
      "           0       1.00      1.00      1.00        49\n",
      "           1       1.00      1.00      1.00        24\n",
      "\n",
      "    accuracy                           1.00        73\n",
      "   macro avg       1.00      1.00      1.00        73\n",
      "weighted avg       1.00      1.00      1.00        73\n",
      "\n",
      "Best parameters:  {'criterion': 'gini', 'max_depth': 5, 'min_samples_leaf': 5, 'min_samples_split': 2}\n",
      "Best score:  0.9485680888369374\n"
     ]
    }
   ],
   "source": [
    "DTC = DecisionTreeClassifier()\n",
    "\n",
    "param_grid = {\n",
    "            'criterion': ['gini','entropy'],\n",
    "            'max_depth': [None, 5, 10],\n",
    "            'min_samples_split': [2, 5, 10],\n",
    "            'min_samples_leaf': [1, 2, 5]\n",
    "        }\n",
    "\n",
    "DTC_GSC = GridSearchCV(DTC, param_grid, cv=5, scoring=\"accuracy\")\n",
    "\n",
    "DTC_GSC.fit(\n",
    "    X=X_train,\n",
    "    y=y_train\n",
    ")\n",
    "\n",
    "y_pred = DTC_GSC.predict(X_test)\n",
    "\n",
    "accuracy = accuracy_score(\n",
    "    y_true=y_test,\n",
    "    y_pred=y_pred\n",
    ")\n",
    "\n",
    "classi_report = classification_report(\n",
    "    y_true=y_test,\n",
    "    y_pred=y_pred\n",
    ")\n",
    "\n",
    "print(f\"Accuracy Score: {accuracy}\")\n",
    "print(classi_report)\n",
    "\n",
    "print(\"Best parameters: \", DTC_GSC.best_params_)\n",
    "print(\"Best score: \", DTC_GSC.best_score_)"
   ]
  },
  {
   "cell_type": "markdown",
   "metadata": {},
   "source": [
    "### RandomForestClassifier - Base"
   ]
  },
  {
   "cell_type": "code",
   "execution_count": 72,
   "metadata": {},
   "outputs": [
    {
     "name": "stdout",
     "output_type": "stream",
     "text": [
      "Accuracy Score: 0.9863013698630136\n",
      "              precision    recall  f1-score   support\n",
      "\n",
      "           0       1.00      0.98      0.99        49\n",
      "           1       0.96      1.00      0.98        24\n",
      "\n",
      "    accuracy                           0.99        73\n",
      "   macro avg       0.98      0.99      0.98        73\n",
      "weighted avg       0.99      0.99      0.99        73\n",
      "\n"
     ]
    }
   ],
   "source": [
    "RFC = RandomForestClassifier()\n",
    "\n",
    "RFC.fit(\n",
    "    X=X_train,\n",
    "    y=y_train\n",
    ")\n",
    "\n",
    "y_pred = RFC.predict(X_test)\n",
    "\n",
    "accuracy = accuracy_score(\n",
    "    y_true=y_test,\n",
    "    y_pred=y_pred\n",
    ")\n",
    "\n",
    "classi_report = classification_report(\n",
    "    y_true=y_test,\n",
    "    y_pred=y_pred\n",
    ")\n",
    "\n",
    "print(f\"Accuracy Score: {accuracy}\")\n",
    "print(classi_report)"
   ]
  },
  {
   "cell_type": "markdown",
   "metadata": {},
   "source": [
    "### RandomForestClassifier - Tuned"
   ]
  },
  {
   "cell_type": "code",
   "execution_count": 73,
   "metadata": {},
   "outputs": [
    {
     "name": "stdout",
     "output_type": "stream",
     "text": [
      "Accuracy Score: 0.9726027397260274\n",
      "              precision    recall  f1-score   support\n",
      "\n",
      "           0       1.00      0.96      0.98        49\n",
      "           1       0.92      1.00      0.96        24\n",
      "\n",
      "    accuracy                           0.97        73\n",
      "   macro avg       0.96      0.98      0.97        73\n",
      "weighted avg       0.97      0.97      0.97        73\n",
      "\n",
      "Best parameters:  {'max_depth': None, 'min_samples_leaf': 1, 'min_samples_split': 2, 'n_estimators': 100}\n",
      "Best score:  0.927936879018118\n"
     ]
    }
   ],
   "source": [
    "RFC = RandomForestClassifier()\n",
    "\n",
    "param_grid = {\n",
    "            'n_estimators': [50, 100, 200],\n",
    "            'max_depth': [None, 5, 10],\n",
    "            'min_samples_split': [2, 5, 10],\n",
    "            'min_samples_leaf': [1, 2, 5]\n",
    "        }\n",
    "\n",
    "RFC_GSC = GridSearchCV(RFC, param_grid, cv=5, scoring=\"accuracy\")\n",
    "\n",
    "RFC_GSC.fit(\n",
    "    X=X_train,\n",
    "    y=y_train\n",
    ")\n",
    "\n",
    "y_pred = RFC_GSC.predict(X_test)\n",
    "\n",
    "accuracy = accuracy_score(\n",
    "    y_true=y_test,\n",
    "    y_pred=y_pred\n",
    ")\n",
    "\n",
    "classi_report = classification_report(\n",
    "    y_true=y_test,\n",
    "    y_pred=y_pred\n",
    ")\n",
    "\n",
    "print(f\"Accuracy Score: {accuracy}\")\n",
    "print(classi_report)\n",
    "\n",
    "print(\"Best parameters: \", RFC_GSC.best_params_)\n",
    "print(\"Best score: \", RFC_GSC.best_score_)"
   ]
  },
  {
   "cell_type": "code",
   "execution_count": 76,
   "metadata": {},
   "outputs": [],
   "source": [
    "from sklearn.metrics import roc_auc_score"
   ]
  },
  {
   "cell_type": "code",
   "execution_count": 77,
   "metadata": {},
   "outputs": [
    {
     "data": {
      "text/plain": [
       "0.9795918367346939"
      ]
     },
     "execution_count": 77,
     "metadata": {},
     "output_type": "execute_result"
    }
   ],
   "source": [
    "roc_auc_score(y_test,y_pred)"
   ]
  },
  {
   "cell_type": "code",
   "execution_count": null,
   "metadata": {},
   "outputs": [],
   "source": []
  }
 ],
 "metadata": {
  "kernelspec": {
   "display_name": "Python 3 (ipykernel)",
   "language": "python",
   "name": "python3"
  },
  "language_info": {
   "codemirror_mode": {
    "name": "ipython",
    "version": 3
   },
   "file_extension": ".py",
   "mimetype": "text/x-python",
   "name": "python",
   "nbconvert_exporter": "python",
   "pygments_lexer": "ipython3",
   "version": "3.11.6"
  }
 },
 "nbformat": 4,
 "nbformat_minor": 4
}
